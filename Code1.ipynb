{
 "cells": [
  {
   "cell_type": "markdown",
   "id": "5ad483fe-4fbc-47aa-a064-0847134695c7",
   "metadata": {},
   "source": [
    "# Hello World"
   ]
  },
  {
   "cell_type": "code",
   "execution_count": 7,
   "id": "2c7dd811-c21c-49f8-a542-8bbd6e4efcb2",
   "metadata": {},
   "outputs": [
    {
     "name": "stdout",
     "output_type": "stream",
     "text": [
      "Hello World!\n"
     ]
    }
   ],
   "source": [
    "print(\"Hello World!\")"
   ]
  },
  {
   "cell_type": "code",
   "execution_count": 8,
   "id": "8737473d-f58b-41f4-98ca-be1599a812fa",
   "metadata": {},
   "outputs": [
    {
     "data": {
      "text/plain": [
       "str"
      ]
     },
     "execution_count": 8,
     "metadata": {},
     "output_type": "execute_result"
    }
   ],
   "source": [
    "type(\"Hello World\")"
   ]
  },
  {
   "cell_type": "code",
   "execution_count": 9,
   "id": "58a2bf1f-632d-4b90-ad7e-02e379c93f46",
   "metadata": {},
   "outputs": [
    {
     "data": {
      "text/plain": [
       "'HELLO WORLD'"
      ]
     },
     "execution_count": 9,
     "metadata": {},
     "output_type": "execute_result"
    }
   ],
   "source": [
    "\"Hello World\".upper()"
   ]
  },
  {
   "cell_type": "code",
   "execution_count": 10,
   "id": "f7247e1f-d88d-4ff4-84e8-2b37b2df6dc8",
   "metadata": {},
   "outputs": [
    {
     "name": "stdout",
     "output_type": "stream",
     "text": [
      "HELLO WORLD\n",
      "hello world\n",
      "Hello World\n"
     ]
    }
   ],
   "source": [
    "print(\"Hello World\".upper())\n",
    "print(\"Hello World\".lower())\n",
    "print(\"Hello World\".title())"
   ]
  },
  {
   "cell_type": "code",
   "execution_count": 11,
   "id": "13074071-66f0-4e93-9b2f-02333fec2519",
   "metadata": {},
   "outputs": [
    {
     "data": {
      "text/plain": [
       "3"
      ]
     },
     "execution_count": 11,
     "metadata": {},
     "output_type": "execute_result"
    }
   ],
   "source": [
    "\"Hello World\".count('l')"
   ]
  },
  {
   "cell_type": "code",
   "execution_count": 12,
   "id": "acd30e39-d320-4921-9b92-d557d0b865f7",
   "metadata": {},
   "outputs": [
    {
     "data": {
      "text/plain": [
       "'Hellu Wurld'"
      ]
     },
     "execution_count": 12,
     "metadata": {},
     "output_type": "execute_result"
    }
   ],
   "source": [
    "\"Hello World\".replace('o','u')"
   ]
  },
  {
   "cell_type": "code",
   "execution_count": null,
   "id": "659c3015-6280-44ac-b31a-f703e85f1b13",
   "metadata": {},
   "outputs": [],
   "source": []
  },
  {
   "cell_type": "markdown",
   "id": "e87c63a4-1681-4d60-8732-53e7b0608258",
   "metadata": {},
   "source": [
    "## Variables"
   ]
  },
  {
   "cell_type": "code",
   "execution_count": 1,
   "id": "a4f3b4b8-72ff-472b-98c6-9811627e9eb9",
   "metadata": {},
   "outputs": [],
   "source": [
    "mess1= \"I'm learning Pyhton\""
   ]
  },
  {
   "cell_type": "code",
   "execution_count": 2,
   "id": "f8b4de5d-a197-4c8d-85ad-b8bd10e74876",
   "metadata": {},
   "outputs": [
    {
     "data": {
      "text/plain": [
       "\"I'm learning Pyhton\""
      ]
     },
     "execution_count": 2,
     "metadata": {},
     "output_type": "execute_result"
    }
   ],
   "source": [
    "mess1"
   ]
  },
  {
   "cell_type": "code",
   "execution_count": 3,
   "id": "49374577-ff84-4814-ad2f-0f756dfe2d1e",
   "metadata": {},
   "outputs": [
    {
     "ename": "SyntaxError",
     "evalue": "invalid syntax (162720200.py, line 1)",
     "output_type": "error",
     "traceback": [
      "\u001b[1;36m  Cell \u001b[1;32mIn[3], line 1\u001b[1;36m\u001b[0m\n\u001b[1;33m    mess1 + mess 2\u001b[0m\n\u001b[1;37m                 ^\u001b[0m\n\u001b[1;31mSyntaxError\u001b[0m\u001b[1;31m:\u001b[0m invalid syntax\n"
     ]
    }
   ],
   "source": [
    "mess1 + mess 2"
   ]
  },
  {
   "cell_type": "code",
   "execution_count": 4,
   "id": "1eee6002-2d28-46b9-a15e-2545f52571de",
   "metadata": {},
   "outputs": [],
   "source": [
    "mess2 = \"and it's fun!\""
   ]
  },
  {
   "cell_type": "code",
   "execution_count": 5,
   "id": "c75879ae-31e3-4519-8125-c8467935acfa",
   "metadata": {},
   "outputs": [
    {
     "data": {
      "text/plain": [
       "\"and it's fun!\""
      ]
     },
     "execution_count": 5,
     "metadata": {},
     "output_type": "execute_result"
    }
   ],
   "source": [
    "mess2"
   ]
  },
  {
   "cell_type": "code",
   "execution_count": 6,
   "id": "2990bffc-22e7-471c-9d4c-c365a0e6c3c2",
   "metadata": {},
   "outputs": [
    {
     "data": {
      "text/plain": [
       "\"I'm learning Pyhtonand it's fun!\""
      ]
     },
     "execution_count": 6,
     "metadata": {},
     "output_type": "execute_result"
    }
   ],
   "source": [
    "mess1+mess2"
   ]
  },
  {
   "cell_type": "code",
   "execution_count": 7,
   "id": "a51fa922-37e4-48ec-9f60-e327f2c64c14",
   "metadata": {},
   "outputs": [
    {
     "data": {
      "text/plain": [
       "\"I'm learning Pyhton and it's fun!\""
      ]
     },
     "execution_count": 7,
     "metadata": {},
     "output_type": "execute_result"
    }
   ],
   "source": [
    "mess1 + \" \" + mess2"
   ]
  },
  {
   "cell_type": "code",
   "execution_count": 8,
   "id": "73358b47-4abf-4223-b811-e047780a1316",
   "metadata": {},
   "outputs": [
    {
     "ename": "NameError",
     "evalue": "name 'mess' is not defined",
     "output_type": "error",
     "traceback": [
      "\u001b[1;31m---------------------------------------------------------------------------\u001b[0m",
      "\u001b[1;31mNameError\u001b[0m                                 Traceback (most recent call last)",
      "Cell \u001b[1;32mIn[8], line 1\u001b[0m\n\u001b[1;32m----> 1\u001b[0m \u001b[38;5;124mf\u001b[39m\u001b[38;5;124m'\u001b[39m\u001b[38;5;132;01m{\u001b[39;00mmess\u001b[38;5;132;01m}\u001b[39;00m\u001b[38;5;124m'\u001b[39m\n",
      "\u001b[1;31mNameError\u001b[0m: name 'mess' is not defined"
     ]
    }
   ],
   "source": [
    "f'{mess}'"
   ]
  },
  {
   "cell_type": "code",
   "execution_count": 9,
   "id": "8c212794-9c8f-4279-b80d-54af1abedc6d",
   "metadata": {},
   "outputs": [
    {
     "data": {
      "text/plain": [
       "\"I'm learning Pyhton\""
      ]
     },
     "execution_count": 9,
     "metadata": {},
     "output_type": "execute_result"
    }
   ],
   "source": [
    "f'{mess1}'"
   ]
  },
  {
   "cell_type": "markdown",
   "id": "c97a98e6-b90f-4f16-9386-a0581892a965",
   "metadata": {},
   "source": [
    "## List"
   ]
  },
  {
   "cell_type": "code",
   "execution_count": 10,
   "id": "7636c105-50bc-4c9d-92fd-62906a0367be",
   "metadata": {},
   "outputs": [],
   "source": [
    "countries=['U.S.A.','INDIA','CHINA','BRAZIL']"
   ]
  },
  {
   "cell_type": "code",
   "execution_count": 11,
   "id": "294e2ade-75fe-49a3-865e-9d53d8603809",
   "metadata": {},
   "outputs": [
    {
     "data": {
      "text/plain": [
       "['U.S.A.', 'INDIA', 'CHINA', 'BRAZIL']"
      ]
     },
     "execution_count": 11,
     "metadata": {},
     "output_type": "execute_result"
    }
   ],
   "source": [
    "countries"
   ]
  },
  {
   "cell_type": "code",
   "execution_count": 13,
   "id": "c49ba3fc-b861-44f1-8449-2f4663796e77",
   "metadata": {},
   "outputs": [
    {
     "name": "stdout",
     "output_type": "stream",
     "text": [
      "U.S.A.\n",
      "INDIA\n",
      "CHINA\n",
      "BRAZIL\n"
     ]
    }
   ],
   "source": [
    "print(countries[0])\n",
    "print(countries[1])\n",
    "print(countries[2])\n",
    "print(countries[3])"
   ]
  },
  {
   "cell_type": "code",
   "execution_count": 14,
   "id": "7f10177c-37e9-41e9-b633-5fbce5c7a6a8",
   "metadata": {},
   "outputs": [
    {
     "data": {
      "text/plain": [
       "'BRAZIL'"
      ]
     },
     "execution_count": 14,
     "metadata": {},
     "output_type": "execute_result"
    }
   ],
   "source": [
    "countries[-1]"
   ]
  },
  {
   "cell_type": "markdown",
   "id": "6652637a-b544-4db0-87fb-761b166378fe",
   "metadata": {},
   "source": [
    "# slicing\n",
    "lis_name[start:stop]"
   ]
  },
  {
   "cell_type": "code",
   "execution_count": 17,
   "id": "70387b64-346a-46d6-aa77-de032da63376",
   "metadata": {},
   "outputs": [
    {
     "data": {
      "text/plain": [
       "['U.S.A.', 'INDIA', 'CHINA']"
      ]
     },
     "execution_count": 17,
     "metadata": {},
     "output_type": "execute_result"
    }
   ],
   "source": [
    "countries[0:3]"
   ]
  },
  {
   "cell_type": "code",
   "execution_count": 18,
   "id": "09560f48-1be7-4ffe-93eb-c756319af2da",
   "metadata": {},
   "outputs": [
    {
     "data": {
      "text/plain": [
       "['U.S.A.', 'INDIA', 'CHINA', 'BRAZIL']"
      ]
     },
     "execution_count": 18,
     "metadata": {},
     "output_type": "execute_result"
    }
   ],
   "source": [
    "countries[0:]"
   ]
  },
  {
   "cell_type": "markdown",
   "id": "23d804e5-20b7-4825-bb18-9ea7021b6a46",
   "metadata": {},
   "source": [
    "### Adding Elements To List"
   ]
  },
  {
   "cell_type": "code",
   "execution_count": 19,
   "id": "af72d790-643e-4bcd-8fed-64b5a67ab917",
   "metadata": {},
   "outputs": [
    {
     "data": {
      "text/plain": [
       "['U.S.A.', 'INDIA', 'CHINA', 'BRAZIL']"
      ]
     },
     "execution_count": 19,
     "metadata": {},
     "output_type": "execute_result"
    }
   ],
   "source": [
    "countries"
   ]
  },
  {
   "cell_type": "code",
   "execution_count": 20,
   "id": "30bd5654-c79b-4bac-b022-0ebb24c968b1",
   "metadata": {},
   "outputs": [],
   "source": [
    "countries.append('Canada')"
   ]
  },
  {
   "cell_type": "code",
   "execution_count": 21,
   "id": "b776dba6-0513-4bd6-b6e7-4f8d74170091",
   "metadata": {},
   "outputs": [
    {
     "data": {
      "text/plain": [
       "['U.S.A.', 'INDIA', 'CHINA', 'BRAZIL', 'Canada']"
      ]
     },
     "execution_count": 21,
     "metadata": {},
     "output_type": "execute_result"
    }
   ],
   "source": [
    "countries"
   ]
  },
  {
   "cell_type": "code",
   "execution_count": 22,
   "id": "fcf319ce-506f-45d7-ada6-3c13fd11c4ac",
   "metadata": {},
   "outputs": [],
   "source": [
    "countries.insert(0,'Spain')"
   ]
  },
  {
   "cell_type": "code",
   "execution_count": 23,
   "id": "667b7b6b-85f1-4fe0-a6aa-5268b27a4b9c",
   "metadata": {},
   "outputs": [
    {
     "data": {
      "text/plain": [
       "['Spain', 'U.S.A.', 'INDIA', 'CHINA', 'BRAZIL', 'Canada']"
      ]
     },
     "execution_count": 23,
     "metadata": {},
     "output_type": "execute_result"
    }
   ],
   "source": [
    "countries"
   ]
  },
  {
   "cell_type": "markdown",
   "id": "58e88f39-a57c-4a24-845b-0b957065f68a",
   "metadata": {},
   "source": [
    "### Removing an elements "
   ]
  },
  {
   "cell_type": "code",
   "execution_count": 25,
   "id": "3b312e7f-0456-4090-99a1-e1a354a10b28",
   "metadata": {},
   "outputs": [
    {
     "data": {
      "text/plain": [
       "['Spain', 'U.S.A.', 'INDIA', 'CHINA', 'BRAZIL', 'Canada']"
      ]
     },
     "execution_count": 25,
     "metadata": {},
     "output_type": "execute_result"
    }
   ],
   "source": [
    "countries"
   ]
  },
  {
   "cell_type": "code",
   "execution_count": 26,
   "id": "3989d8e4-3c41-4b1e-8f87-5426b6ad7db5",
   "metadata": {},
   "outputs": [
    {
     "ename": "NameError",
     "evalue": "name 'coutries' is not defined",
     "output_type": "error",
     "traceback": [
      "\u001b[1;31m---------------------------------------------------------------------------\u001b[0m",
      "\u001b[1;31mNameError\u001b[0m                                 Traceback (most recent call last)",
      "Cell \u001b[1;32mIn[26], line 1\u001b[0m\n\u001b[1;32m----> 1\u001b[0m coutries\u001b[38;5;241m.\u001b[39mremove(\u001b[38;5;124m'\u001b[39m\u001b[38;5;124mU.S.A.\u001b[39m\u001b[38;5;124m'\u001b[39m)\n",
      "\u001b[1;31mNameError\u001b[0m: name 'coutries' is not defined"
     ]
    }
   ],
   "source": [
    "coutries.remove('U.S.A.')"
   ]
  },
  {
   "cell_type": "code",
   "execution_count": 27,
   "id": "25139ef3-4ed0-448e-9756-0769975298f7",
   "metadata": {},
   "outputs": [],
   "source": [
    "countries.remove('U.S.A.')"
   ]
  },
  {
   "cell_type": "code",
   "execution_count": 28,
   "id": "c8ed3a03-d7ba-4b54-97c4-257e20709aae",
   "metadata": {},
   "outputs": [
    {
     "data": {
      "text/plain": [
       "['Spain', 'INDIA', 'CHINA', 'BRAZIL', 'Canada']"
      ]
     },
     "execution_count": 28,
     "metadata": {},
     "output_type": "execute_result"
    }
   ],
   "source": [
    "countries"
   ]
  },
  {
   "cell_type": "code",
   "execution_count": 29,
   "id": "2271d8d2-cf50-4586-93e7-85a6fe03e701",
   "metadata": {},
   "outputs": [
    {
     "data": {
      "text/plain": [
       "'Canada'"
      ]
     },
     "execution_count": 29,
     "metadata": {},
     "output_type": "execute_result"
    }
   ],
   "source": [
    "countries.pop(-1)"
   ]
  },
  {
   "cell_type": "code",
   "execution_count": 30,
   "id": "57fb4540-4fd8-4cf9-b775-a17845df14e8",
   "metadata": {},
   "outputs": [],
   "source": [
    "del countries[0]"
   ]
  },
  {
   "cell_type": "code",
   "execution_count": 31,
   "id": "69997280-9b7e-47cb-a410-057910d36478",
   "metadata": {},
   "outputs": [
    {
     "data": {
      "text/plain": [
       "['INDIA', 'CHINA', 'BRAZIL']"
      ]
     },
     "execution_count": 31,
     "metadata": {},
     "output_type": "execute_result"
    }
   ],
   "source": [
    "countries"
   ]
  },
  {
   "cell_type": "markdown",
   "id": "57610edc-3fa3-45aa-afaa-94fb025fb4d3",
   "metadata": {},
   "source": [
    "## Sort a List"
   ]
  },
  {
   "cell_type": "code",
   "execution_count": 33,
   "id": "07968647-15fc-4eb7-a6e3-b59965321991",
   "metadata": {},
   "outputs": [],
   "source": [
    "numbers=[4,3,10,7,1,2]"
   ]
  },
  {
   "cell_type": "code",
   "execution_count": 34,
   "id": "a14a357e-b600-4a44-af24-e17294f40d7c",
   "metadata": {},
   "outputs": [],
   "source": [
    "numbers.sort()"
   ]
  },
  {
   "cell_type": "code",
   "execution_count": 35,
   "id": "cc9c60cd-946f-4adf-bc2d-47f5730c5566",
   "metadata": {},
   "outputs": [
    {
     "data": {
      "text/plain": [
       "[1, 2, 3, 4, 7, 10]"
      ]
     },
     "execution_count": 35,
     "metadata": {},
     "output_type": "execute_result"
    }
   ],
   "source": [
    "numbers"
   ]
  },
  {
   "cell_type": "code",
   "execution_count": 36,
   "id": "3eea6fe1-5a6e-4d55-a966-e881d2678364",
   "metadata": {},
   "outputs": [
    {
     "data": {
      "text/plain": [
       "[10, 7, 4, 3, 2, 1]"
      ]
     },
     "execution_count": 36,
     "metadata": {},
     "output_type": "execute_result"
    }
   ],
   "source": [
    "numbers=[4,3,10,7,1,2]\n",
    "numbers.sort(reverse=True)\n",
    "numbers"
   ]
  },
  {
   "cell_type": "markdown",
   "id": "7cd958c4-5ffc-4bb4-8113-296ccb35d9d4",
   "metadata": {},
   "source": [
    "### Update an element"
   ]
  },
  {
   "cell_type": "code",
   "execution_count": 37,
   "id": "99f25e30-f080-4375-be94-ba2fc17ef152",
   "metadata": {},
   "outputs": [
    {
     "ename": "NameError",
     "evalue": "name 'number' is not defined",
     "output_type": "error",
     "traceback": [
      "\u001b[1;31m---------------------------------------------------------------------------\u001b[0m",
      "\u001b[1;31mNameError\u001b[0m                                 Traceback (most recent call last)",
      "Cell \u001b[1;32mIn[37], line 1\u001b[0m\n\u001b[1;32m----> 1\u001b[0m number[\u001b[38;5;241m0\u001b[39m]\u001b[38;5;241m=\u001b[39m\u001b[38;5;241m1000\u001b[39m\n",
      "\u001b[1;31mNameError\u001b[0m: name 'number' is not defined"
     ]
    }
   ],
   "source": [
    "number[0]=1000"
   ]
  },
  {
   "cell_type": "code",
   "execution_count": 38,
   "id": "88a60c96-0565-49e4-9dcc-12c1c02b4039",
   "metadata": {},
   "outputs": [],
   "source": [
    "numbers[0]=1000"
   ]
  },
  {
   "cell_type": "code",
   "execution_count": 39,
   "id": "56230cbe-b254-4ac1-8523-2fec98b34f37",
   "metadata": {},
   "outputs": [
    {
     "data": {
      "text/plain": [
       "[1000, 7, 4, 3, 2, 1]"
      ]
     },
     "execution_count": 39,
     "metadata": {},
     "output_type": "execute_result"
    }
   ],
   "source": [
    "numbers"
   ]
  },
  {
   "cell_type": "markdown",
   "id": "087f97bf-8892-4499-9117-1dd4a4dde3f7",
   "metadata": {},
   "source": [
    "### Copying a list"
   ]
  },
  {
   "cell_type": "code",
   "execution_count": 40,
   "id": "3604b145-c2b5-481d-93f4-b7806d213e69",
   "metadata": {},
   "outputs": [
    {
     "data": {
      "text/plain": [
       "['INDIA', 'CHINA', 'BRAZIL']"
      ]
     },
     "execution_count": 40,
     "metadata": {},
     "output_type": "execute_result"
    }
   ],
   "source": [
    "countries[:]"
   ]
  },
  {
   "cell_type": "code",
   "execution_count": 41,
   "id": "ea6eb0c9-96fd-4ed3-996b-efb4a2f5e378",
   "metadata": {},
   "outputs": [],
   "source": [
    "new_list=countries[:]"
   ]
  },
  {
   "cell_type": "code",
   "execution_count": 42,
   "id": "9146c886-0eda-4241-8b07-b910e077b1ca",
   "metadata": {},
   "outputs": [
    {
     "data": {
      "text/plain": [
       "['INDIA', 'CHINA', 'BRAZIL']"
      ]
     },
     "execution_count": 42,
     "metadata": {},
     "output_type": "execute_result"
    }
   ],
   "source": [
    "new_list"
   ]
  },
  {
   "cell_type": "code",
   "execution_count": 43,
   "id": "4c91fb2e-acc1-421c-9c09-f5273834e7da",
   "metadata": {},
   "outputs": [],
   "source": [
    "new_list2=countries.copy()"
   ]
  },
  {
   "cell_type": "code",
   "execution_count": 44,
   "id": "3940579e-9e21-46a7-a774-c8ad1d9f7803",
   "metadata": {},
   "outputs": [
    {
     "data": {
      "text/plain": [
       "['INDIA', 'CHINA', 'BRAZIL']"
      ]
     },
     "execution_count": 44,
     "metadata": {},
     "output_type": "execute_result"
    }
   ],
   "source": [
    "new_list2"
   ]
  },
  {
   "cell_type": "markdown",
   "id": "ec3cd232-270f-408c-a134-1950d7225408",
   "metadata": {},
   "source": [
    "### if-statement"
   ]
  },
  {
   "cell_type": "code",
   "execution_count": null,
   "id": "d0f0e4fd-2590-4c5d-9c06-a4242b0b2ff4",
   "metadata": {},
   "outputs": [],
   "source": [
    "if <condition>:\n",
    "    <code>\n",
    "elif <condition>:\n",
    "    <code>\n",
    "...\n",
    "else:\n",
    "    <code>\n",
    "    "
   ]
  },
  {
   "cell_type": "code",
   "execution_count": 46,
   "id": "034c6472-b221-4de8-9b4d-c0fa73c3ee6c",
   "metadata": {},
   "outputs": [
    {
     "name": "stdout",
     "output_type": "stream",
     "text": [
      "You are a kid\n"
     ]
    }
   ],
   "source": [
    "age=10\n",
    "\n",
    "if age>=18:\n",
    "    print(\"You are an adult!\")\n",
    "elif age>=13:\n",
    "    print(\"You are a teenager\")\n",
    "else:\n",
    "    print(\"You are a kid\")"
   ]
  },
  {
   "cell_type": "markdown",
   "id": "e364a74f-fa69-4f60-aca2-25fca121c55c",
   "metadata": {},
   "source": [
    "for <variables> in <lists>:\n",
    "    <code>"
   ]
  },
  {
   "cell_type": "markdown",
   "id": "4419c70b-e4f7-4b8f-9646-3fd4a15981da",
   "metadata": {},
   "source": [
    "def functionn(<params>):\n",
    "    <code>\n",
    "    return <data>"
   ]
  },
  {
   "cell_type": "markdown",
   "id": "be89dd90-6be8-4c2e-8265-60e9ad44f38b",
   "metadata": {},
   "source": []
  },
  {
   "cell_type": "code",
   "execution_count": null,
   "id": "4958fdcd-893a-4f19-b871-dbe186f7f26f",
   "metadata": {},
   "outputs": [],
   "source": [
    "import"
   ]
  },
  {
   "cell_type": "markdown",
   "id": "64e9328f-d63e-49c5-b78f-b3ddcc9e9d5f",
   "metadata": {},
   "source": [
    "## OS Module "
   ]
  },
  {
   "cell_type": "code",
   "execution_count": 4,
   "id": "33810ba0-733c-4437-8f83-0d5819ef0576",
   "metadata": {},
   "outputs": [],
   "source": [
    "import os"
   ]
  },
  {
   "cell_type": "code",
   "execution_count": 5,
   "id": "8b2e2698-84d1-494d-a9d7-78e65f9d911a",
   "metadata": {},
   "outputs": [
    {
     "data": {
      "text/plain": [
       "'C:\\\\Users\\\\sidha\\\\Anaconda Scripts\\\\My Code'"
      ]
     },
     "execution_count": 5,
     "metadata": {},
     "output_type": "execute_result"
    }
   ],
   "source": [
    "os.getcwd()"
   ]
  },
  {
   "cell_type": "code",
   "execution_count": 6,
   "id": "3af62895-28a4-426d-b88d-b03c3257526b",
   "metadata": {},
   "outputs": [
    {
     "data": {
      "text/plain": [
       "['.ipynb_checkpoints', 'Code1.ipynb']"
      ]
     },
     "execution_count": 6,
     "metadata": {},
     "output_type": "execute_result"
    }
   ],
   "source": [
    "os.listdir()"
   ]
  },
  {
   "cell_type": "code",
   "execution_count": 7,
   "id": "2b91cc04-8ee4-4cfa-b4b3-31cebb895ca9",
   "metadata": {},
   "outputs": [],
   "source": [
    "os.makedirs(\"newFolder\")"
   ]
  },
  {
   "cell_type": "code",
   "execution_count": 8,
   "id": "26e01e86-6faa-4cf0-a9f3-786c907e4145",
   "metadata": {},
   "outputs": [
    {
     "data": {
      "text/plain": [
       "['.ipynb_checkpoints', 'Code1.ipynb', 'newFolder']"
      ]
     },
     "execution_count": 8,
     "metadata": {},
     "output_type": "execute_result"
    }
   ],
   "source": [
    "os.listdir()"
   ]
  }
 ],
 "metadata": {
  "kernelspec": {
   "display_name": "Python 3 (ipykernel)",
   "language": "python",
   "name": "python3"
  },
  "language_info": {
   "codemirror_mode": {
    "name": "ipython",
    "version": 3
   },
   "file_extension": ".py",
   "mimetype": "text/x-python",
   "name": "python",
   "nbconvert_exporter": "python",
   "pygments_lexer": "ipython3",
   "version": "3.13.5"
  }
 },
 "nbformat": 4,
 "nbformat_minor": 5
}
