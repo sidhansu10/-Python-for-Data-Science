{
 "cells": [
  {
   "cell_type": "code",
   "execution_count": 1,
   "id": "aa874089-7dab-48bb-b159-b7a5f5b9865b",
   "metadata": {},
   "outputs": [],
   "source": [
    "import pandas as pd\n",
    "import numpy as np"
   ]
  },
  {
   "cell_type": "markdown",
   "id": "4a776a34-0b2d-4e1c-814a-9e345fc9d425",
   "metadata": {},
   "source": [
    "# 1.Creating a Dataframe from an array"
   ]
  },
  {
   "cell_type": "markdown",
   "id": "f0deb736-5297-49d9-9e8d-4c822978709b",
   "metadata": {},
   "source": [
    "# 1.1 Option 1 "
   ]
  },
  {
   "cell_type": "code",
   "execution_count": 2,
   "id": "8fdfd604-4c31-4346-a7a2-2dd672f424df",
   "metadata": {},
   "outputs": [],
   "source": [
    "# Creating an Array\n",
    "data = np.array([[1,4],[2,5],[3,6]])"
   ]
  },
  {
   "cell_type": "code",
   "execution_count": 3,
   "id": "eeece26a-08d2-408c-9e29-c6d503467b28",
   "metadata": {},
   "outputs": [],
   "source": [
    "# Creating a DataFrame\n",
    "df=pd.DataFrame(data,index=['row1','row2','row3'],columns=['col1','col2'])"
   ]
  },
  {
   "cell_type": "code",
   "execution_count": 8,
   "id": "8dc8dc97-cc94-4475-8417-a90751020857",
   "metadata": {},
   "outputs": [
    {
     "data": {
      "text/html": [
       "<div>\n",
       "<style scoped>\n",
       "    .dataframe tbody tr th:only-of-type {\n",
       "        vertical-align: middle;\n",
       "    }\n",
       "\n",
       "    .dataframe tbody tr th {\n",
       "        vertical-align: top;\n",
       "    }\n",
       "\n",
       "    .dataframe thead th {\n",
       "        text-align: right;\n",
       "    }\n",
       "</style>\n",
       "<table border=\"1\" class=\"dataframe\">\n",
       "  <thead>\n",
       "    <tr style=\"text-align: right;\">\n",
       "      <th></th>\n",
       "      <th>col1</th>\n",
       "      <th>col2</th>\n",
       "    </tr>\n",
       "  </thead>\n",
       "  <tbody>\n",
       "    <tr>\n",
       "      <th>row1</th>\n",
       "      <td>1</td>\n",
       "      <td>4</td>\n",
       "    </tr>\n",
       "    <tr>\n",
       "      <th>row2</th>\n",
       "      <td>2</td>\n",
       "      <td>5</td>\n",
       "    </tr>\n",
       "    <tr>\n",
       "      <th>row3</th>\n",
       "      <td>3</td>\n",
       "      <td>6</td>\n",
       "    </tr>\n",
       "  </tbody>\n",
       "</table>\n",
       "</div>"
      ],
      "text/plain": [
       "      col1  col2\n",
       "row1     1     4\n",
       "row2     2     5\n",
       "row3     3     6"
      ]
     },
     "execution_count": 8,
     "metadata": {},
     "output_type": "execute_result"
    }
   ],
   "source": [
    "# Showing the DataFrame\n",
    "df"
   ]
  },
  {
   "cell_type": "markdown",
   "id": "0515dc3f-18f3-4938-a9bf-b8c46f07c137",
   "metadata": {},
   "source": [
    "## 1.2 Option2"
   ]
  },
  {
   "cell_type": "code",
   "execution_count": 5,
   "id": "904bb0b4-97a7-4c31-8956-8e4fd7ba4c66",
   "metadata": {},
   "outputs": [],
   "source": [
    "# Creating an Array with List shape\n",
    "data = [[1,4],[2,5],[3,6]]"
   ]
  },
  {
   "cell_type": "code",
   "execution_count": 7,
   "id": "46331f36-bb5d-4c67-8b42-8f1783783bf2",
   "metadata": {},
   "outputs": [],
   "source": [
    "# Creating a DataFrame\n",
    "df=pd.DataFrame(data,index=['row1','row2','row3'],columns=['col1','col2'])"
   ]
  },
  {
   "cell_type": "code",
   "execution_count": 9,
   "id": "d78cee1c-12c2-476b-9d47-83c2f73b3494",
   "metadata": {},
   "outputs": [
    {
     "data": {
      "text/html": [
       "<div>\n",
       "<style scoped>\n",
       "    .dataframe tbody tr th:only-of-type {\n",
       "        vertical-align: middle;\n",
       "    }\n",
       "\n",
       "    .dataframe tbody tr th {\n",
       "        vertical-align: top;\n",
       "    }\n",
       "\n",
       "    .dataframe thead th {\n",
       "        text-align: right;\n",
       "    }\n",
       "</style>\n",
       "<table border=\"1\" class=\"dataframe\">\n",
       "  <thead>\n",
       "    <tr style=\"text-align: right;\">\n",
       "      <th></th>\n",
       "      <th>col1</th>\n",
       "      <th>col2</th>\n",
       "    </tr>\n",
       "  </thead>\n",
       "  <tbody>\n",
       "    <tr>\n",
       "      <th>row1</th>\n",
       "      <td>1</td>\n",
       "      <td>4</td>\n",
       "    </tr>\n",
       "    <tr>\n",
       "      <th>row2</th>\n",
       "      <td>2</td>\n",
       "      <td>5</td>\n",
       "    </tr>\n",
       "    <tr>\n",
       "      <th>row3</th>\n",
       "      <td>3</td>\n",
       "      <td>6</td>\n",
       "    </tr>\n",
       "  </tbody>\n",
       "</table>\n",
       "</div>"
      ],
      "text/plain": [
       "      col1  col2\n",
       "row1     1     4\n",
       "row2     2     5\n",
       "row3     3     6"
      ]
     },
     "execution_count": 9,
     "metadata": {},
     "output_type": "execute_result"
    }
   ],
   "source": [
    "# Showing the DataFrame\n",
    "df"
   ]
  },
  {
   "cell_type": "markdown",
   "id": "1f0dc0df-7605-4cb2-a764-d348bbb8de41",
   "metadata": {},
   "source": [
    "# 2. Creating a DataFrame from a Dictionary"
   ]
  },
  {
   "cell_type": "code",
   "execution_count": 10,
   "id": "138f4ff2-be87-4bc7-abb5-2bbc47ff0b2d",
   "metadata": {},
   "outputs": [],
   "source": [
    "# lists used for this example\n",
    "states=['California','Texas','Florida','New York']\n",
    "population=['x','y','z','xyz']"
   ]
  },
  {
   "cell_type": "code",
   "execution_count": 11,
   "id": "9ac2cd11-8873-4364-8b7e-2829475e41b7",
   "metadata": {},
   "outputs": [],
   "source": [
    "# Storing lists with a dictionary\n",
    "dict_states={'States':states,'Population':population}"
   ]
  },
  {
   "cell_type": "code",
   "execution_count": 13,
   "id": "1c4a5286-892e-4b2a-aacb-80c4a9be7bb9",
   "metadata": {},
   "outputs": [],
   "source": [
    "# Creating the DataFrame\n",
    "df_population=pd.DataFrame(dict_states)"
   ]
  },
  {
   "cell_type": "code",
   "execution_count": 15,
   "id": "24da33c4-acd6-45ca-9c59-05b490873227",
   "metadata": {},
   "outputs": [
    {
     "data": {
      "text/html": [
       "<div>\n",
       "<style scoped>\n",
       "    .dataframe tbody tr th:only-of-type {\n",
       "        vertical-align: middle;\n",
       "    }\n",
       "\n",
       "    .dataframe tbody tr th {\n",
       "        vertical-align: top;\n",
       "    }\n",
       "\n",
       "    .dataframe thead th {\n",
       "        text-align: right;\n",
       "    }\n",
       "</style>\n",
       "<table border=\"1\" class=\"dataframe\">\n",
       "  <thead>\n",
       "    <tr style=\"text-align: right;\">\n",
       "      <th></th>\n",
       "      <th>States</th>\n",
       "      <th>Population</th>\n",
       "    </tr>\n",
       "  </thead>\n",
       "  <tbody>\n",
       "    <tr>\n",
       "      <th>0</th>\n",
       "      <td>California</td>\n",
       "      <td>x</td>\n",
       "    </tr>\n",
       "    <tr>\n",
       "      <th>1</th>\n",
       "      <td>Texas</td>\n",
       "      <td>y</td>\n",
       "    </tr>\n",
       "    <tr>\n",
       "      <th>2</th>\n",
       "      <td>Florida</td>\n",
       "      <td>z</td>\n",
       "    </tr>\n",
       "    <tr>\n",
       "      <th>3</th>\n",
       "      <td>New York</td>\n",
       "      <td>xyz</td>\n",
       "    </tr>\n",
       "  </tbody>\n",
       "</table>\n",
       "</div>"
      ],
      "text/plain": [
       "       States Population\n",
       "0  California          x\n",
       "1       Texas          y\n",
       "2     Florida          z\n",
       "3    New York        xyz"
      ]
     },
     "execution_count": 15,
     "metadata": {},
     "output_type": "execute_result"
    }
   ],
   "source": [
    "# Showing the DataFrame\n",
    "df_population"
   ]
  },
  {
   "cell_type": "markdown",
   "id": "56cc5b7c-97ba-4cd0-8d22-5361eb280fd8",
   "metadata": {},
   "source": [
    "# 3.Creating a DataFrame from a CSV file"
   ]
  },
  {
   "cell_type": "code",
   "execution_count": null,
   "id": "902e2d4f-9400-4a29-b326-dd9052aa80e4",
   "metadata": {},
   "outputs": [],
   "source": [
    "# reading the csv file\n",
    "df_exams=pd.read_csv('StudentPerformance.csv') #file-name just for ref."
   ]
  },
  {
   "cell_type": "code",
   "execution_count": null,
   "id": "7db19379-1a2a-4fcf-884f-b1f747071353",
   "metadata": {},
   "outputs": [],
   "source": [
    "# show first 5 rows in a dataframe``\n",
    "df_exams #file-name just for ref."
   ]
  },
  {
   "cell_type": "code",
   "execution_count": null,
   "id": "9fb8f371-92c3-462b-8a4e-ab69faac6750",
   "metadata": {},
   "outputs": [],
   "source": []
  }
 ],
 "metadata": {
  "kernelspec": {
   "display_name": "Python 3 (ipykernel)",
   "language": "python",
   "name": "python3"
  },
  "language_info": {
   "codemirror_mode": {
    "name": "ipython",
    "version": 3
   },
   "file_extension": ".py",
   "mimetype": "text/x-python",
   "name": "python",
   "nbconvert_exporter": "python",
   "pygments_lexer": "ipython3",
   "version": "3.13.5"
  }
 },
 "nbformat": 4,
 "nbformat_minor": 5
}
