{
 "cells": [
  {
   "cell_type": "code",
   "execution_count": null,
   "id": "6bf71e5c-73f6-4bf5-887c-2a63f5814fa9",
   "metadata": {},
   "outputs": [],
   "source": []
  }
 ],
 "metadata": {
  "kernelspec": {
   "display_name": "",
   "name": ""
  },
  "language_info": {
   "name": ""
  }
 },
 "nbformat": 4,
 "nbformat_minor": 5
}
